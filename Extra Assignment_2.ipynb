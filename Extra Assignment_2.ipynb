{
 "cells": [
  {
   "cell_type": "code",
   "execution_count": 2,
   "id": "443cee99-bd72-4cea-a89c-d6b51eb61406",
   "metadata": {},
   "outputs": [
    {
     "name": "stdout",
     "output_type": "stream",
     "text": [
      "0\n",
      "1\n",
      "2\n",
      "3\n",
      "4\n",
      "5\n",
      "6\n",
      "7\n",
      "8\n",
      "9\n",
      "10\n",
      "11\n",
      "12\n",
      "13\n",
      "14\n",
      "15\n",
      "16\n",
      "17\n",
      "18\n",
      "19\n"
     ]
    }
   ],
   "source": [
    "for i in range(0,20):\n",
    "    print(i)"
   ]
  },
  {
   "cell_type": "code",
   "execution_count": 3,
   "id": "126020a9-3f0a-4387-9a89-48940b7f647c",
   "metadata": {},
   "outputs": [
    {
     "name": "stdout",
     "output_type": "stream",
     "text": [
      "10 11 12 13 14 15 16 17 18 19 "
     ]
    }
   ],
   "source": [
    "for i in range(10,20):\n",
    "    print(i, end=\" \")"
   ]
  },
  {
   "cell_type": "code",
   "execution_count": 6,
   "id": "85d5226b-34ac-46e9-a6a8-b50cc9d2833c",
   "metadata": {},
   "outputs": [
    {
     "name": "stdout",
     "output_type": "stream",
     "text": [
      "[10, 20, 14, 55, 43, 87, 76]\n",
      "Number of item in the List2:\n",
      "7\n"
     ]
    }
   ],
   "source": [
    "list = [10,20,14,55,43,87,76]\n",
    "print(list)\n",
    "print(\"Number of item in the List2:\")\n",
    "print(len(list))"
   ]
  },
  {
   "cell_type": "code",
   "execution_count": 8,
   "id": "dd479b74-5c37-4df5-a775-a005e07727bf",
   "metadata": {},
   "outputs": [
    {
     "name": "stdout",
     "output_type": "stream",
     "text": [
      "Artificial Intelligence\n",
      "A\n",
      "r\n",
      "t\n",
      "i\n",
      "f\n",
      "i\n",
      "c\n",
      "i\n",
      "a\n",
      "l\n",
      " \n",
      "I\n",
      "n\n",
      "t\n",
      "e\n",
      "l\n",
      "l\n",
      "i\n",
      "g\n",
      "e\n",
      "n\n",
      "c\n",
      "e\n"
     ]
    }
   ],
   "source": [
    "str = \"Artificial Intelligence\"\n",
    "print(str)\n",
    "for letter in str:\n",
    "    print(letter)"
   ]
  },
  {
   "cell_type": "code",
   "execution_count": 27,
   "id": "11ce8065-353b-46c4-b574-b826bc642cbd",
   "metadata": {},
   "outputs": [
    {
     "name": "stdout",
     "output_type": "stream",
     "text": [
      "-Your Name -\n",
      "-Your Age -\n",
      "-Your Profession -\n"
     ]
    }
   ],
   "source": [
    "values = ['Name','Age','Profession']\n",
    "for value in values:\n",
    "    print(\"-Your\",value,\"-\")"
   ]
  },
  {
   "cell_type": "code",
   "execution_count": 12,
   "id": "ab82ea0c-64c6-4359-8151-70711e81dea0",
   "metadata": {},
   "outputs": [
    {
     "name": "stdout",
     "output_type": "stream",
     "text": [
      "(1, 'Welcome', 2, 'Hope')\n"
     ]
    }
   ],
   "source": [
    "tupl = (1,'Welcome',2,'Hope')\n",
    "print(tupl)"
   ]
  },
  {
   "cell_type": "code",
   "execution_count": 14,
   "id": "28dfe05b-4ede-4e97-800f-9643239c67e6",
   "metadata": {},
   "outputs": [
    {
     "name": "stdout",
     "output_type": "stream",
     "text": [
      "((0, 1, 2, 3), ('pyhton', 'HOPE'))\n"
     ]
    }
   ],
   "source": [
    "Tuple1 = (0,1,2,3)\n",
    "Tuple2 = (Tuple1,('pyhton','HOPE'))\n",
    "print(Tuple2)"
   ]
  },
  {
   "cell_type": "code",
   "execution_count": 19,
   "id": "26380fcf-dbf2-4a33-a6dc-0d475ea9a173",
   "metadata": {},
   "outputs": [
    {
     "name": "stdout",
     "output_type": "stream",
     "text": [
      "(20, 10, 16, 19, 25, 1, 276, 188)\n",
      "19  is odd\n",
      "25  is odd\n",
      "1  is odd\n"
     ]
    }
   ],
   "source": [
    "numbers = [20,10,16,19,25,1,276,188]\n",
    "print(tuple(numbers))\n",
    "for num in numbers:\n",
    "    if num%2 != 0:\n",
    "        print(num, \" is odd\")"
   ]
  },
  {
   "cell_type": "code",
   "execution_count": 24,
   "id": "60f224c9-a5c3-4ff3-8282-8c4c6ef04c4f",
   "metadata": {},
   "outputs": [
    {
     "name": "stdout",
     "output_type": "stream",
     "text": [
      "(20, 10, 16, 19, 25, 1, 276, 188)\n",
      "20  is even\n",
      "10  is even\n",
      "16  is even\n",
      "276  is even\n",
      "188  is even\n"
     ]
    }
   ],
   "source": [
    "numbers = [20,10,16,19,25,1,276,188]\n",
    "print(tuple(numbers))\n",
    "for num in numbers:\n",
    "    if num%2 == 0:\n",
    "        print(num, \" is even\") # in the question PDF is it given as odd instead of even."
   ]
  },
  {
   "cell_type": "code",
   "execution_count": null,
   "id": "76d2b364-e281-432b-bee8-9559cd2b9502",
   "metadata": {},
   "outputs": [],
   "source": []
  }
 ],
 "metadata": {
  "kernelspec": {
   "display_name": "Python 3 (ipykernel)",
   "language": "python",
   "name": "python3"
  },
  "language_info": {
   "codemirror_mode": {
    "name": "ipython",
    "version": 3
   },
   "file_extension": ".py",
   "mimetype": "text/x-python",
   "name": "python",
   "nbconvert_exporter": "python",
   "pygments_lexer": "ipython3",
   "version": "3.11.9"
  }
 },
 "nbformat": 4,
 "nbformat_minor": 5
}
