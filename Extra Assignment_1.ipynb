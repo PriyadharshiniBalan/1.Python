{
 "cells": [
  {
   "cell_type": "code",
   "execution_count": 19,
   "id": "72b25af3-17af-42ec-a5b2-c4e5b80aa803",
   "metadata": {},
   "outputs": [
    {
     "name": "stdout",
     "output_type": "stream",
     "text": [
      "HOPE AI\n"
     ]
    }
   ],
   "source": [
    "print(\"HOPE AI\")"
   ]
  },
  {
   "cell_type": "code",
   "execution_count": 11,
   "id": "32c0daa4-6a1b-4e42-a934-565e19a1def6",
   "metadata": {},
   "outputs": [
    {
     "name": "stdin",
     "output_type": "stream",
     "text": [
      "Enter your institute name? : HOPE AI\n"
     ]
    }
   ],
   "source": [
    "institute = input(\"Enter your institute name? :\")"
   ]
  },
  {
   "cell_type": "code",
   "execution_count": 12,
   "id": "7b29a5ce-f01a-485a-9a75-682f41b95533",
   "metadata": {},
   "outputs": [
    {
     "name": "stdin",
     "output_type": "stream",
     "text": [
      "Enter your name:  Raj\n",
      "Enter your age:  15\n",
      "Enter your school name:  Guru school\n",
      "Enter yout degree:  B.E CSE\n"
     ]
    }
   ],
   "source": [
    "name = input(\"Enter your name: \")\n",
    "age = int(input(\"Enter your age: \"))\n",
    "school = input(\"Enter your school name: \")\n",
    "degree = input(\"Enter yout degree: \")"
   ]
  },
  {
   "cell_type": "code",
   "execution_count": 20,
   "id": "e0024273-214a-4838-b352-5cf2f8e423cf",
   "metadata": {},
   "outputs": [
    {
     "name": "stdout",
     "output_type": "stream",
     "text": [
      "a=  43\n",
      "b=  34\n",
      "Add =  77\n"
     ]
    }
   ],
   "source": [
    "a = 43\n",
    "b = 34\n",
    "add = a+b\n",
    "print(\"a= \", a)\n",
    "print(\"b= \", b)\n",
    "print(\"Add = \", add)"
   ]
  },
  {
   "cell_type": "code",
   "execution_count": 13,
   "id": "8391f51c-6f18-4da6-b0f4-efc4c10168ac",
   "metadata": {},
   "outputs": [
    {
     "name": "stdout",
     "output_type": "stream",
     "text": [
      "a=  43\n",
      "b=  34\n",
      "Sub =  9\n"
     ]
    }
   ],
   "source": [
    "a = 43\n",
    "b = 34\n",
    "sub = a-b\n",
    "print(\"a= \", a)\n",
    "print(\"b= \", b)\n",
    "print(\"Sub = \", sub)"
   ]
  },
  {
   "cell_type": "code",
   "execution_count": 14,
   "id": "ead5f479-1ab7-4bea-9cde-992cada0c97a",
   "metadata": {},
   "outputs": [
    {
     "name": "stdout",
     "output_type": "stream",
     "text": [
      "a=  63\n",
      "b=  97\n",
      "Mul =  6111\n"
     ]
    }
   ],
   "source": [
    "a = 63\n",
    "b = 97\n",
    "mul = a*b\n",
    "print(\"a= \", a)\n",
    "print(\"b= \", b)\n",
    "print(\"Mul = \", mul)"
   ]
  },
  {
   "cell_type": "code",
   "execution_count": 15,
   "id": "c384938b-d160-4e8f-b935-c03d7375d0f4",
   "metadata": {},
   "outputs": [
    {
     "name": "stdout",
     "output_type": "stream",
     "text": [
      "a=  76\n",
      "b=  31\n",
      "Float Div =  2.4516129032258065\n"
     ]
    }
   ],
   "source": [
    "a = 76\n",
    "b = 31\n",
    "div = a/b\n",
    "print(\"a= \", a)\n",
    "print(\"b= \", b)\n",
    "print(\"Float Div = \", div)"
   ]
  },
  {
   "cell_type": "code",
   "execution_count": 16,
   "id": "6b5bbf89-e015-4e4f-bf77-cf108552d44e",
   "metadata": {},
   "outputs": [
    {
     "name": "stdout",
     "output_type": "stream",
     "text": [
      "a=  76\n",
      "b=  31\n",
      "Floor Div =  2\n"
     ]
    }
   ],
   "source": [
    "a = 76\n",
    "b = 31\n",
    "floor_div = a//b\n",
    "print(\"a= \", a)\n",
    "print(\"b= \", b)\n",
    "print(\"Floor Div = \", floor_div)"
   ]
  },
  {
   "cell_type": "code",
   "execution_count": 17,
   "id": "f873ff6b-0a18-48b8-af30-4b3cfb6adebc",
   "metadata": {},
   "outputs": [
    {
     "name": "stdout",
     "output_type": "stream",
     "text": [
      "a=  76\n",
      "b=  31\n",
      "Modulo =  14\n"
     ]
    }
   ],
   "source": [
    "a = 76\n",
    "b = 31\n",
    "modulo = a%b\n",
    "print(\"a= \", a)\n",
    "print(\"b= \", b)\n",
    "print(\"Modulo = \", modulo)"
   ]
  },
  {
   "cell_type": "code",
   "execution_count": 18,
   "id": "3f4fbdbb-6715-44d2-b5e0-5827d6a3e231",
   "metadata": {},
   "outputs": [
    {
     "name": "stdout",
     "output_type": "stream",
     "text": [
      "a=  4\n",
      "b=  4\n",
      "Power =  256\n"
     ]
    }
   ],
   "source": [
    "a = 4\n",
    "b = 4\n",
    "power = a**b\n",
    "print(\"a= \", a)\n",
    "print(\"b= \", b)\n",
    "print(\"Power = \", power)"
   ]
  },
  {
   "cell_type": "code",
   "execution_count": null,
   "id": "72886d2c-47e8-4109-b399-35a64b8f5a1d",
   "metadata": {},
   "outputs": [],
   "source": []
  }
 ],
 "metadata": {
  "kernelspec": {
   "display_name": "Python 3 (ipykernel)",
   "language": "python",
   "name": "python3"
  },
  "language_info": {
   "codemirror_mode": {
    "name": "ipython",
    "version": 3
   },
   "file_extension": ".py",
   "mimetype": "text/x-python",
   "name": "python",
   "nbconvert_exporter": "python",
   "pygments_lexer": "ipython3",
   "version": "3.11.9"
  }
 },
 "nbformat": 4,
 "nbformat_minor": 5
}
