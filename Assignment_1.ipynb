{
 "cells": [
  {
   "cell_type": "markdown",
   "id": "ea23c896-e522-47f6-93f3-2e8b0144dbe9",
   "metadata": {},
   "source": [
    "Assignment 1 - Control Structures"
   ]
  },
  {
   "cell_type": "markdown",
   "id": "bb9e4450-09ca-442f-929f-792925640669",
   "metadata": {},
   "source": [
    "June 17, 2024"
   ]
  },
  {
   "cell_type": "code",
   "execution_count": 1,
   "id": "ed489c0b-ae49-4d18-aa9f-b0308e2c6951",
   "metadata": {},
   "outputs": [
    {
     "name": "stdout",
     "output_type": "stream",
     "text": [
      "Welcome to Assignment-1\n"
     ]
    }
   ],
   "source": [
    "print(\"Welcome to Assignment-1\")"
   ]
  },
  {
   "cell_type": "code",
   "execution_count": 4,
   "id": "48361ec9-fc76-4294-a289-a46989559751",
   "metadata": {},
   "outputs": [
    {
     "name": "stdout",
     "output_type": "stream",
     "text": [
      "Num1=  10\n",
      "Num2=  30\n",
      "Add=  40\n"
     ]
    }
   ],
   "source": [
    "num1 = 10\n",
    "num2 = 30\n",
    "add = num1+num2\n",
    "print(\"Num1= \", num1)\n",
    "print(\"Num2= \", num2)\n",
    "print(\"Add= \", add)"
   ]
  },
  {
   "cell_type": "markdown",
   "id": "309c5f1a-ba08-4188-9b22-b92e0a49da27",
   "metadata": {},
   "source": [
    "Body Mass Index"
   ]
  },
  {
   "cell_type": "code",
   "execution_count": 5,
   "id": "1bf953e0-839f-44e5-a749-196bfb55f766",
   "metadata": {},
   "outputs": [
    {
     "name": "stdin",
     "output_type": "stream",
     "text": [
      "Enter the BMI Index: 34\n"
     ]
    },
    {
     "name": "stdout",
     "output_type": "stream",
     "text": [
      "Very Overweight\n"
     ]
    }
   ],
   "source": [
    "bmi =  int(input(\"Enter the BMI Index:\"))\n",
    "if (bmi < 19):\n",
    "    print(\"Under weight\")\n",
    "elif (bmi >= 19 and bmi < 25):\n",
    "    print(\"Normal weight\")\n",
    "elif (bmi >= 25 and bmi < 30):\n",
    "    print(\"Overweight\")\n",
    "else:\n",
    "    print(\"Very Overweight\")"
   ]
  },
  {
   "cell_type": "code",
   "execution_count": null,
   "id": "e8401222-0235-445d-8663-889738a47e55",
   "metadata": {},
   "outputs": [],
   "source": []
  }
 ],
 "metadata": {
  "kernelspec": {
   "display_name": "Python 3 (ipykernel)",
   "language": "python",
   "name": "python3"
  },
  "language_info": {
   "codemirror_mode": {
    "name": "ipython",
    "version": 3
   },
   "file_extension": ".py",
   "mimetype": "text/x-python",
   "name": "python",
   "nbconvert_exporter": "python",
   "pygments_lexer": "ipython3",
   "version": "3.11.9"
  }
 },
 "nbformat": 4,
 "nbformat_minor": 5
}
